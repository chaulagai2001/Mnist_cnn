{
  "nbformat": 4,
  "nbformat_minor": 0,
  "metadata": {
    "colab": {
      "provenance": [],
      "gpuType": "T4",
      "authorship_tag": "ABX9TyMOpRi6W+PZaXDKnJ39SCsj",
      "include_colab_link": true
    },
    "kernelspec": {
      "name": "python3",
      "display_name": "Python 3"
    },
    "language_info": {
      "name": "python"
    },
    "accelerator": "GPU"
  },
  "cells": [
    {
      "cell_type": "markdown",
      "metadata": {
        "id": "view-in-github",
        "colab_type": "text"
      },
      "source": [
        "<a href=\"https://colab.research.google.com/github/chaulagai2001/Mnist_cnn/blob/main/Mnist_cnn1.ipynb\" target=\"_parent\"><img src=\"https://colab.research.google.com/assets/colab-badge.svg\" alt=\"Open In Colab\"/></a>"
      ]
    },
    {
      "cell_type": "markdown",
      "source": [
        "Import the data using CNN"
      ],
      "metadata": {
        "id": "y1n6zF9390NN"
      }
    },
    {
      "cell_type": "code",
      "execution_count": 1,
      "metadata": {
        "id": "avcvWii2r73d"
      },
      "outputs": [],
      "source": [
        "import torch\n",
        "import torch.nn as nn\n",
        "import torch.nn.functional as F"
      ]
    },
    {
      "cell_type": "code",
      "source": [
        "from torch.utils.data import DataLoader\n",
        "from torchvision import datasets, transforms\n",
        "from torchvision.utils import make_grid"
      ],
      "metadata": {
        "id": "2AEPG3mo-Qkb"
      },
      "execution_count": 3,
      "outputs": []
    },
    {
      "cell_type": "code",
      "source": [
        "import numpy as np\n",
        "import pandas as pd\n",
        "from sklearn.metrics import confusion_matrix"
      ],
      "metadata": {
        "id": "Uk2mBRS0-kUw"
      },
      "execution_count": 4,
      "outputs": []
    },
    {
      "cell_type": "code",
      "source": [
        "import matplotlib.pyplot as plt\n",
        "%matplotlib inline"
      ],
      "metadata": {
        "id": "vORiCZ3g-08z"
      },
      "execution_count": 6,
      "outputs": []
    },
    {
      "cell_type": "code",
      "source": [
        "# Convert the mnist images into tensors of 4 dimensions(number of images, height, width, colorchannel)\n",
        "transform = transforms.ToTensor()"
      ],
      "metadata": {
        "id": "niLKXLrw-4js"
      },
      "execution_count": 9,
      "outputs": []
    },
    {
      "cell_type": "code",
      "source": [
        "#train data\n",
        "train_data = datasets.MNIST(root = '/mnist_data', train = True, download = True, transform = transform)"
      ],
      "metadata": {
        "id": "n4phoGws_YnF"
      },
      "execution_count": 14,
      "outputs": []
    },
    {
      "cell_type": "code",
      "source": [
        "# Test data\n",
        "test_data = datasets.MNIST(root = '/mnist_data', train = False, download = True, transform = transform)"
      ],
      "metadata": {
        "id": "Tsl4GTPP_2Mk"
      },
      "execution_count": 15,
      "outputs": []
    },
    {
      "cell_type": "code",
      "source": [
        "train_data"
      ],
      "metadata": {
        "colab": {
          "base_uri": "https://localhost:8080/"
        },
        "id": "ThDzabNKAJpj",
        "outputId": "5a85bc67-da3b-45f7-b8bd-1137934aee2e"
      },
      "execution_count": 16,
      "outputs": [
        {
          "output_type": "execute_result",
          "data": {
            "text/plain": [
              "Dataset MNIST\n",
              "    Number of datapoints: 60000\n",
              "    Root location: /mnist_data\n",
              "    Split: Train\n",
              "    StandardTransform\n",
              "Transform: ToTensor()"
            ]
          },
          "metadata": {},
          "execution_count": 16
        }
      ]
    },
    {
      "cell_type": "code",
      "source": [
        "test_data"
      ],
      "metadata": {
        "colab": {
          "base_uri": "https://localhost:8080/"
        },
        "id": "xHAc6R9ZAxiO",
        "outputId": "d1c9f2b1-7cc5-40e0-e166-789c9698daf2"
      },
      "execution_count": 28,
      "outputs": [
        {
          "output_type": "execute_result",
          "data": {
            "text/plain": [
              "Dataset MNIST\n",
              "    Number of datapoints: 10000\n",
              "    Root location: /mnist_data\n",
              "    Split: Test\n",
              "    StandardTransform\n",
              "Transform: ToTensor()"
            ]
          },
          "metadata": {},
          "execution_count": 28
        }
      ]
    },
    {
      "cell_type": "code",
      "source": [
        "#create a small batch size of images ..> 10\n",
        "train_loader = DataLoader(train_data, batch_size = 10, shuffle = True )\n",
        "test_loader = DataLoader(test_data, batch_size = 10, shuffle = False )"
      ],
      "metadata": {
        "id": "FgiXmH2xBxku"
      },
      "execution_count": 30,
      "outputs": []
    },
    {
      "cell_type": "code",
      "source": [
        "# Define our CNN model\n",
        "# Describe convolutional layer and what it does\n",
        "\n",
        "conv1 = nn.Conv2d(1, 6, 3, 1)\n",
        "conv2 = nn.Conv2d(6, 16, 3, 1)"
      ],
      "metadata": {
        "id": "aNDKtWVuCMJ4"
      },
      "execution_count": 31,
      "outputs": []
    },
    {
      "cell_type": "code",
      "source": [
        "#grab one mnist record/image\n",
        "for i, (X_train, y_train) in enumerate (train_data):\n",
        "  break"
      ],
      "metadata": {
        "id": "ZuRu6CR_C6yj"
      },
      "execution_count": 32,
      "outputs": []
    },
    {
      "cell_type": "code",
      "source": [
        "X_train.shape"
      ],
      "metadata": {
        "colab": {
          "base_uri": "https://localhost:8080/"
        },
        "id": "8nhdIwzHDKZK",
        "outputId": "8c72f4d8-2469-4358-bf08-57466f2f7375"
      },
      "execution_count": 33,
      "outputs": [
        {
          "output_type": "execute_result",
          "data": {
            "text/plain": [
              "torch.Size([1, 28, 28])"
            ]
          },
          "metadata": {},
          "execution_count": 33
        }
      ]
    },
    {
      "cell_type": "code",
      "source": [
        "x = X_train.view(1, 1, 28, 28)"
      ],
      "metadata": {
        "id": "XLZIgHReDMPP"
      },
      "execution_count": 36,
      "outputs": []
    },
    {
      "cell_type": "code",
      "source": [
        "#perform our first convolution\n",
        "x = F.relu(conv1(x))  # Rectified linear unit for activation function"
      ],
      "metadata": {
        "id": "Y9f5w78jDlYC"
      },
      "execution_count": 37,
      "outputs": []
    },
    {
      "cell_type": "code",
      "source": [
        "x.shape"
      ],
      "metadata": {
        "colab": {
          "base_uri": "https://localhost:8080/"
        },
        "id": "QXweR_p1EGC4",
        "outputId": "bce3b7c2-b209-48ed-c4d8-d4e1e5d5b650"
      },
      "execution_count": 38,
      "outputs": [
        {
          "output_type": "execute_result",
          "data": {
            "text/plain": [
              "torch.Size([1, 6, 26, 26])"
            ]
          },
          "metadata": {},
          "execution_count": 38
        }
      ]
    },
    {
      "cell_type": "markdown",
      "source": [
        "the image shrinks down to 26*26 because it removed few pixels from the border as we didn't define any padding.\n"
      ],
      "metadata": {
        "id": "gax1TzIGEiFY"
      }
    },
    {
      "cell_type": "code",
      "source": [
        "#pooling layer\n",
        "#pass through the pooling layer\n",
        "x = F.max_pool2d(x, 2, 2)  # kernel of 2 and stride of 2"
      ],
      "metadata": {
        "id": "rr4WKoy7EHMj"
      },
      "execution_count": 39,
      "outputs": []
    },
    {
      "cell_type": "code",
      "source": [
        "x.shape"
      ],
      "metadata": {
        "colab": {
          "base_uri": "https://localhost:8080/"
        },
        "id": "tmZCJuq-FF0n",
        "outputId": "427ff692-5dbd-4863-beb2-38132236c74b"
      },
      "execution_count": 41,
      "outputs": [
        {
          "output_type": "execute_result",
          "data": {
            "text/plain": [
              "torch.Size([1, 6, 13, 13])"
            ]
          },
          "metadata": {},
          "execution_count": 41
        }
      ]
    },
    {
      "cell_type": "markdown",
      "source": [
        "13*13 is because we used the pool size of 2, it divides it by 2"
      ],
      "metadata": {
        "id": "hJAWnS-2FMsn"
      }
    },
    {
      "cell_type": "code",
      "source": [
        "# USe the second convolutional layer\n",
        "x = F.relu(conv2(x))"
      ],
      "metadata": {
        "id": "EJvsASI0FIrW"
      },
      "execution_count": 42,
      "outputs": []
    },
    {
      "cell_type": "code",
      "source": [
        "x.shape"
      ],
      "metadata": {
        "colab": {
          "base_uri": "https://localhost:8080/"
        },
        "id": "cJJx4LWnFk0X",
        "outputId": "7ae46dcd-1fe5-4b03-c83b-887d23da4e75"
      },
      "execution_count": 43,
      "outputs": [
        {
          "output_type": "execute_result",
          "data": {
            "text/plain": [
              "torch.Size([1, 16, 11, 11])"
            ]
          },
          "metadata": {},
          "execution_count": 43
        }
      ]
    },
    {
      "cell_type": "markdown",
      "source": [
        "16 = features\n",
        "11*11 = loss of 2 pixels from 13 * 13"
      ],
      "metadata": {
        "id": "e5R2jU3EFpnB"
      }
    },
    {
      "cell_type": "code",
      "source": [
        "x = F.max_pool2d(x, 2, 2)"
      ],
      "metadata": {
        "id": "K0vZJLltFnbQ"
      },
      "execution_count": 44,
      "outputs": []
    },
    {
      "cell_type": "code",
      "source": [
        "x.shape"
      ],
      "metadata": {
        "colab": {
          "base_uri": "https://localhost:8080/"
        },
        "id": "VeCDyPojF54n",
        "outputId": "30f1c5ff-7df6-4fcb-e3f7-edda5da4517f"
      },
      "execution_count": 45,
      "outputs": [
        {
          "output_type": "execute_result",
          "data": {
            "text/plain": [
              "torch.Size([1, 16, 5, 5])"
            ]
          },
          "metadata": {},
          "execution_count": 45
        }
      ]
    },
    {
      "cell_type": "markdown",
      "source": [
        "11 / 2 = 5.5, it rounds down as it cannot round up"
      ],
      "metadata": {
        "id": "LItiGD9oF_jI"
      }
    },
    {
      "cell_type": "code",
      "source": [],
      "metadata": {
        "id": "AtTl5xKFF8qu"
      },
      "execution_count": null,
      "outputs": []
    }
  ]
}